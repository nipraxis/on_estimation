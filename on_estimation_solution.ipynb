{
 "cells": [
  {
   "cell_type": "markdown",
   "id": "a159846e",
   "metadata": {},
   "source": [
    "# Some mathematics on least-squares regression\n",
    "\n"
   ]
  },
  {
   "cell_type": "markdown",
   "id": "c5ad5182",
   "metadata": {},
   "source": [
    "## Introduction and definitions"
   ]
  },
  {
   "cell_type": "code",
   "execution_count": 1,
   "id": "8ad2e587",
   "metadata": {
    "execution": {
     "iopub.execute_input": "2022-09-13T09:18:37.562128Z",
     "iopub.status.busy": "2022-09-13T09:18:37.561126Z",
     "iopub.status.idle": "2022-09-13T09:18:37.675880Z",
     "shell.execute_reply": "2022-09-13T09:18:37.676601Z"
    }
   },
   "outputs": [],
   "source": [
    "#: Import numerical and plotting libraries\n",
    "import numpy as np\n",
    "# Print to four digits of precision\n",
    "np.set_printoptions(precision=4, suppress=True)\n",
    "import numpy.linalg as npl"
   ]
  },
  {
   "cell_type": "markdown",
   "id": "522638e2",
   "metadata": {},
   "source": [
    "These exercises are to practice thinking about how the regression estimation\n",
    "works, and the relationship of correlation and regression.\n",
    "\n",
    "To give us some concrete data to play with, here are another couple of samples\n",
    "of the “psychopathy” and “clamminess” scores, of the same type that we saw in\n",
    "the [introduction to the general linear\n",
    "model](https://textbook.nipraxis.org/glm_intro.html):"
   ]
  },
  {
   "cell_type": "code",
   "execution_count": 2,
   "id": "410094c6",
   "metadata": {
    "execution": {
     "iopub.execute_input": "2022-09-13T09:18:37.683495Z",
     "iopub.status.busy": "2022-09-13T09:18:37.682158Z",
     "iopub.status.idle": "2022-09-13T09:18:37.685817Z",
     "shell.execute_reply": "2022-09-13T09:18:37.687009Z"
    }
   },
   "outputs": [],
   "source": [
    "#: The data, that we are trying to model.\n",
    "psychopathy = np.array([ 11.914,   4.289,  10.825,  14.987,\n",
    "                         7.572,   5.447,   17.332,  12.105,\n",
    "                         13.297,  10.635,  21.777,  20.715])"
   ]
  },
  {
   "cell_type": "code",
   "execution_count": 3,
   "id": "689192c2",
   "metadata": {
    "execution": {
     "iopub.execute_input": "2022-09-13T09:18:37.694023Z",
     "iopub.status.busy": "2022-09-13T09:18:37.692643Z",
     "iopub.status.idle": "2022-09-13T09:18:37.695309Z",
     "shell.execute_reply": "2022-09-13T09:18:37.696239Z"
    }
   },
   "outputs": [],
   "source": [
    "#: The regressor that we will use to model the data.\n",
    "clammy = np.array([ 0.422,  0.406,  0.061,  0.962,  4.715,\n",
    "                    1.398,  1.952,  5.095, 8.092,  5.685,\n",
    "                    5.167,  7.257])"
   ]
  },
  {
   "cell_type": "markdown",
   "id": "392300d7",
   "metadata": {},
   "source": [
    "$\\newcommand{\\yvec}{\\vec{y}} \\newcommand{\\xvec}{\\vec{x}} \\newcommand{\\evec}{\\vec{\\varepsilon}}$\n",
    "\n",
    "Our simple linear model can be expressed by:\n",
    "\n",
    "$$\n",
    "y_i = c + bx_i + e_i`\n",
    "$$\n",
    "\n",
    "In vector notation:\n",
    "\n",
    "$$\n",
    "\\yvec = c + b \\xvec + \\evec\n",
    "$$\n",
    "\n",
    "$\\yvec$ is the vector of values $[y_1, y_2, ... y_n]$ we want to explain\n",
    "(psychopathy), $\\xvec$ is the vector of values $[x_1, x_2, ... x_n]$ containing\n",
    "our explanatory variable (clammy), and $\\evec$ is the vector of remaining data\n",
    "unexplained by $c + b \\xvec$.\n",
    "\n",
    "$\\newcommand{Xmat}{\\boldsymbol X} \\newcommand{\\bvec}{\\vec{\\beta}}$\n",
    "\n",
    "The same model can also be expressed using a design *matrix* $\\Xmat$:\n",
    "\n",
    "$$\n",
    "\\yvec = \\Xmat \\bvec + \\evec\n",
    "$$\n",
    "\n",
    "where $\\Xmat$ has two columns, the first being a vector of $n$ ones, and the\n",
    "second being $\\xvec$. $\\bvec$ is a column vector containing two values, $[c,\n",
    "b]$ that are, respectively, the intercept and slope of the fitted line.\n",
    "\n",
    "Now define the *mean* of $\\vec{x}$ as:\n",
    "\n",
    "$$\n",
    "\\bar{x} = \\frac{1}{n} \\sum_{i=1}^n x_i\n",
    "$$\n",
    "\n",
    "Define two new vectors, $\\vec{x^c}, \\vec{y^c}$ that contain the values in\n",
    "$\\vec{x}, \\vec{y}$ with their respective means subtracted:\n",
    "\n",
    "$$\n",
    "\\vec{x^c} = [x_1 - \\bar{x}, x_2 - \\bar{x}, ... , x_n - \\bar{x}]\n",
    "$$\n",
    "\n",
    "$$\n",
    "\\vec{y^c} = [y_1 - \\bar{y}, y_2 - \\bar{y}, ... , y_n - \\bar{y}]\n",
    "$$\n",
    "\n",
    "We found in [introduction to the general linear\n",
    "model](https://textbook.nipraxis.org/glm_intro.html) that, for the\n",
    "case of a [full-rank](https://textbook.nipraxis.org) matrix $\\Xmat$, the least\n",
    "squares estimate for $\\bvec$ is given by:\n",
    "\n",
    "$$\n",
    "\\newcommand{\\bhat}{\\hat{\\bvec}} \\newcommand{\\yhat}{\\hat{\\yvec}}\n",
    "\\bhat = (\\Xmat^T \\Xmat)^{-1} \\Xmat^T \\yvec\n",
    "$$"
   ]
  },
  {
   "cell_type": "markdown",
   "id": "0f6a3d6d",
   "metadata": {},
   "source": [
    "## On vector lengths\n",
    "\n",
    "In what follows, we will refer to the idea of the *vector length* of a vector.\n",
    "This is different from the number of values in a vector, often written as $n$:"
   ]
  },
  {
   "cell_type": "code",
   "execution_count": 4,
   "id": "6df29030",
   "metadata": {
    "execution": {
     "iopub.execute_input": "2022-09-13T09:18:37.712369Z",
     "iopub.status.busy": "2022-09-13T09:18:37.710981Z",
     "iopub.status.idle": "2022-09-13T09:18:37.716685Z",
     "shell.execute_reply": "2022-09-13T09:18:37.717372Z"
    }
   },
   "outputs": [],
   "source": [
    "n = len(clammy)\n",
    "n"
   ]
  },
  {
   "cell_type": "markdown",
   "id": "0c6d1f62",
   "metadata": {},
   "source": [
    "In contrast *vector length* is a mathematical property of the vector *values*.\n",
    "See [vectors and dot\n",
    "products](http://matthew-brett.github.io/teaching/on_vectors.html) for the\n",
    "mathematical background.  In summary, vector length is a generalization of\n",
    "Pythagoras' theorem to more than two dimensions, and is defined as the square\n",
    "root of the sum of the squared vector values.  For example, the vector length\n",
    "of `clammy` is:"
   ]
  },
  {
   "cell_type": "code",
   "execution_count": 5,
   "id": "4509472b",
   "metadata": {
    "execution": {
     "iopub.execute_input": "2022-09-13T09:18:37.726069Z",
     "iopub.status.busy": "2022-09-13T09:18:37.724401Z",
     "iopub.status.idle": "2022-09-13T09:18:37.728931Z",
     "shell.execute_reply": "2022-09-13T09:18:37.729591Z"
    }
   },
   "outputs": [],
   "source": [
    "np.sqrt(np.sum(clammy ** 2))"
   ]
  },
  {
   "cell_type": "markdown",
   "id": "8d13f5d6",
   "metadata": {},
   "source": [
    "Now consider a vector of values for which the mean value is 0.   We can create\n",
    "such a vector by subtracting the mean from the vector values, like this:"
   ]
  },
  {
   "cell_type": "code",
   "execution_count": 6,
   "id": "14a26f05",
   "metadata": {
    "execution": {
     "iopub.execute_input": "2022-09-13T09:18:37.737847Z",
     "iopub.status.busy": "2022-09-13T09:18:37.735755Z",
     "iopub.status.idle": "2022-09-13T09:18:37.741834Z",
     "shell.execute_reply": "2022-09-13T09:18:37.742716Z"
    }
   },
   "outputs": [],
   "source": [
    "x_1 = clammy - np.mean(clammy)\n",
    "# The mean is (near as the computer can calculate) 0\n",
    "np.mean(x_1)"
   ]
  },
  {
   "cell_type": "markdown",
   "id": "7fd7c740",
   "metadata": {},
   "source": [
    "The length of this vector is:"
   ]
  },
  {
   "cell_type": "code",
   "execution_count": 7,
   "id": "2ff410b2",
   "metadata": {
    "execution": {
     "iopub.execute_input": "2022-09-13T09:18:37.751637Z",
     "iopub.status.busy": "2022-09-13T09:18:37.750020Z",
     "iopub.status.idle": "2022-09-13T09:18:37.755774Z",
     "shell.execute_reply": "2022-09-13T09:18:37.756783Z"
    }
   },
   "outputs": [],
   "source": [
    "x_1_len = np.sqrt(np.sum(x_1 ** 2))\n",
    "x_1_len"
   ]
  },
  {
   "cell_type": "markdown",
   "id": "bd308c34",
   "metadata": {},
   "source": [
    "Here is the *standard deviation* of this vector:"
   ]
  },
  {
   "cell_type": "code",
   "execution_count": 8,
   "id": "c36c998a",
   "metadata": {
    "execution": {
     "iopub.execute_input": "2022-09-13T09:18:37.765384Z",
     "iopub.status.busy": "2022-09-13T09:18:37.763813Z",
     "iopub.status.idle": "2022-09-13T09:18:37.769432Z",
     "shell.execute_reply": "2022-09-13T09:18:37.770698Z"
    }
   },
   "outputs": [],
   "source": [
    "x_1_std = np.std(x_1)\n",
    "x_1_std"
   ]
  },
  {
   "cell_type": "markdown",
   "id": "1195bc7b",
   "metadata": {},
   "source": [
    "Thinking about the calculation of the standard deviation and the calculation of\n",
    "the length, how would you recalculate the standard deviation *from the length*?\n",
    "\n",
    "You may well need a sheet of paper to work out how to do this, with some\n",
    "algebra."
   ]
  },
  {
   "cell_type": "code",
   "execution_count": 9,
   "id": "229ad180",
   "metadata": {
    "execution": {
     "iopub.execute_input": "2022-09-13T09:18:37.780597Z",
     "iopub.status.busy": "2022-09-13T09:18:37.778991Z",
     "iopub.status.idle": "2022-09-13T09:18:37.784111Z",
     "shell.execute_reply": "2022-09-13T09:18:37.784952Z"
    },
    "lines_to_next_cell": 2
   },
   "outputs": [],
   "source": [
    "# Recalculate the standard deviation from the vector length.\n",
    "std_recalculated = np.sqrt(x_1_len ** 2 / n)\n",
    "# Show the result\n",
    "std_recalculated"
   ]
  },
  {
   "cell_type": "markdown",
   "id": "097cc3ae",
   "metadata": {},
   "source": [
    "Conversely, calculate the vector length from the standard deviation:"
   ]
  },
  {
   "cell_type": "code",
   "execution_count": 10,
   "id": "6f97609a",
   "metadata": {
    "execution": {
     "iopub.execute_input": "2022-09-13T09:18:37.795087Z",
     "iopub.status.busy": "2022-09-13T09:18:37.793512Z",
     "iopub.status.idle": "2022-09-13T09:18:37.798451Z",
     "shell.execute_reply": "2022-09-13T09:18:37.799446Z"
    }
   },
   "outputs": [],
   "source": [
    "# Recalculate the vector length from the standard deviation\n",
    "vlen_recalculated = np.sqrt(x_1_std ** 2 * n)\n",
    "# Show the result\n",
    "vlen_recalculated"
   ]
  },
  {
   "cell_type": "markdown",
   "id": "e63cf53c",
   "metadata": {},
   "source": [
    "## On dot products\n",
    "\n",
    "The *dot product* is the sum of the values in a vector that results from\n",
    "multiplying the two vectors together, elementwise.\n",
    "\n",
    "For example, to calculate the dot product of `psychopathy` and `clammy`, we\n",
    "first multiply the two vectors together, elementwise:"
   ]
  },
  {
   "cell_type": "code",
   "execution_count": 11,
   "id": "08623216",
   "metadata": {
    "execution": {
     "iopub.execute_input": "2022-09-13T09:18:37.809172Z",
     "iopub.status.busy": "2022-09-13T09:18:37.807825Z",
     "iopub.status.idle": "2022-09-13T09:18:37.811897Z",
     "shell.execute_reply": "2022-09-13T09:18:37.812542Z"
    }
   },
   "outputs": [],
   "source": [
    "multiplied = clammy * psychopathy\n",
    "multiplied"
   ]
  },
  {
   "cell_type": "markdown",
   "id": "70dc98f4",
   "metadata": {},
   "source": [
    "The dot product is the sum of the values in `multiplied`:"
   ]
  },
  {
   "cell_type": "code",
   "execution_count": 12,
   "id": "573b7e4c",
   "metadata": {
    "execution": {
     "iopub.execute_input": "2022-09-13T09:18:37.819585Z",
     "iopub.status.busy": "2022-09-13T09:18:37.818296Z",
     "iopub.status.idle": "2022-09-13T09:18:37.822901Z",
     "shell.execute_reply": "2022-09-13T09:18:37.823549Z"
    }
   },
   "outputs": [],
   "source": [
    "np.sum(multiplied)"
   ]
  },
  {
   "cell_type": "markdown",
   "id": "535f7f55",
   "metadata": {},
   "source": [
    "And in general:"
   ]
  },
  {
   "cell_type": "code",
   "execution_count": 13,
   "id": "649feadf",
   "metadata": {
    "execution": {
     "iopub.execute_input": "2022-09-13T09:18:37.830799Z",
     "iopub.status.busy": "2022-09-13T09:18:37.829453Z",
     "iopub.status.idle": "2022-09-13T09:18:37.833674Z",
     "shell.execute_reply": "2022-09-13T09:18:37.835062Z"
    }
   },
   "outputs": [],
   "source": [
    "def dot_product(x, y):\n",
    "    return np.sum(x * y)"
   ]
  },
  {
   "cell_type": "code",
   "execution_count": 14,
   "id": "223b1b15",
   "metadata": {
    "execution": {
     "iopub.execute_input": "2022-09-13T09:18:37.846242Z",
     "iopub.status.busy": "2022-09-13T09:18:37.845128Z",
     "iopub.status.idle": "2022-09-13T09:18:37.848903Z",
     "shell.execute_reply": "2022-09-13T09:18:37.849928Z"
    }
   },
   "outputs": [],
   "source": [
    "dot_product(clammy, psychopathy)"
   ]
  },
  {
   "cell_type": "markdown",
   "id": "fbdcc195",
   "metadata": {},
   "source": [
    "Numpy also has a short-cut for the dot-product operation, because it is so\n",
    "common:"
   ]
  },
  {
   "cell_type": "code",
   "execution_count": 15,
   "id": "f1a69d82",
   "metadata": {
    "execution": {
     "iopub.execute_input": "2022-09-13T09:18:37.859187Z",
     "iopub.status.busy": "2022-09-13T09:18:37.857965Z",
     "iopub.status.idle": "2022-09-13T09:18:37.863103Z",
     "shell.execute_reply": "2022-09-13T09:18:37.863795Z"
    }
   },
   "outputs": [],
   "source": [
    "np.dot(clammy, psychopathy)"
   ]
  },
  {
   "cell_type": "markdown",
   "id": "a8c001f2",
   "metadata": {},
   "source": [
    "In fact, this is what you get when using the `@` operator in Numpy, called the\n",
    "*matrix multiplication* operator, when applied to two vectors:"
   ]
  },
  {
   "cell_type": "code",
   "execution_count": 16,
   "id": "039e88a2",
   "metadata": {
    "execution": {
     "iopub.execute_input": "2022-09-13T09:18:37.871735Z",
     "iopub.status.busy": "2022-09-13T09:18:37.869940Z",
     "iopub.status.idle": "2022-09-13T09:18:37.875082Z",
     "shell.execute_reply": "2022-09-13T09:18:37.875899Z"
    }
   },
   "outputs": [],
   "source": [
    "clammy @ psychopathy"
   ]
  },
  {
   "cell_type": "markdown",
   "id": "b0aaab33",
   "metadata": {},
   "source": [
    "Have a look at the definitions of *vector length* and the dot product.  How\n",
    "would you calculate the vector length from the dot product of the vector with\n",
    "itself?"
   ]
  },
  {
   "cell_type": "code",
   "execution_count": 17,
   "id": "3fa5a519",
   "metadata": {
    "execution": {
     "iopub.execute_input": "2022-09-13T09:18:37.882907Z",
     "iopub.status.busy": "2022-09-13T09:18:37.881906Z",
     "iopub.status.idle": "2022-09-13T09:18:37.886626Z",
     "shell.execute_reply": "2022-09-13T09:18:37.885960Z"
    }
   },
   "outputs": [],
   "source": [
    "#- Recalculate the vector length using the dot product of the vector with itself\n",
    "c_dot_c = clammy @ clammy\n",
    "np.sqrt(c_dot_c)"
   ]
  },
  {
   "cell_type": "markdown",
   "id": "6c331187",
   "metadata": {},
   "source": [
    "## Correlation coefficient and regression\n",
    "\n",
    "Create the $\\Xmat$ matrix from a vector of ones and the vector of `clammy`\n",
    "scores:"
   ]
  },
  {
   "cell_type": "code",
   "execution_count": 18,
   "id": "6f36d6f7",
   "metadata": {
    "execution": {
     "iopub.execute_input": "2022-09-13T09:18:37.896255Z",
     "iopub.status.busy": "2022-09-13T09:18:37.895132Z",
     "iopub.status.idle": "2022-09-13T09:18:37.898794Z",
     "shell.execute_reply": "2022-09-13T09:18:37.899524Z"
    }
   },
   "outputs": [],
   "source": [
    "#- Create X design matrix from column of ones and clammy vector\n",
    "X = np.stack([np.ones(n), clammy], axis=1)\n",
    "# Show the result.\n",
    "X"
   ]
  },
  {
   "cell_type": "markdown",
   "id": "f688ea59",
   "metadata": {},
   "source": [
    "Are the columns of `X` orthogonal to each other?\n",
    "\n",
    "Two *vectors* are defined as being orthogonal to each other if the *dot\n",
    "product* of the two vectors is zero."
   ]
  },
  {
   "cell_type": "code",
   "execution_count": 19,
   "id": "9aa7b905",
   "metadata": {
    "execution": {
     "iopub.execute_input": "2022-09-13T09:18:37.907329Z",
     "iopub.status.busy": "2022-09-13T09:18:37.906222Z",
     "iopub.status.idle": "2022-09-13T09:18:37.910287Z",
     "shell.execute_reply": "2022-09-13T09:18:37.910935Z"
    }
   },
   "outputs": [],
   "source": [
    "#- Are the two columns of X orthogonal?\n",
    "X[:, 0] @ X[:, 1]"
   ]
  },
  {
   "cell_type": "markdown",
   "id": "d39f5e25",
   "metadata": {},
   "source": [
    "We will now calculate the pseudoinverse.\n",
    "\n",
    "First we calculate $\\Xmat^T \\Xmat$:"
   ]
  },
  {
   "cell_type": "code",
   "execution_count": 20,
   "id": "03e5c7e6",
   "metadata": {
    "execution": {
     "iopub.execute_input": "2022-09-13T09:18:37.919477Z",
     "iopub.status.busy": "2022-09-13T09:18:37.917717Z",
     "iopub.status.idle": "2022-09-13T09:18:37.923398Z",
     "shell.execute_reply": "2022-09-13T09:18:37.924059Z"
    }
   },
   "outputs": [],
   "source": [
    "XtX = X.T @  X\n",
    "XtX"
   ]
  },
  {
   "cell_type": "markdown",
   "id": "9d0968b7",
   "metadata": {},
   "source": [
    "*For extra points* : does this matrix help us with the question as to whether\n",
    "the columns are orthogonal?  How?\n",
    "\n",
    "Calculated the matrix inverse of $\\Xmat^T \\Xmat$:"
   ]
  },
  {
   "cell_type": "code",
   "execution_count": 21,
   "id": "7aa3a329",
   "metadata": {
    "execution": {
     "iopub.execute_input": "2022-09-13T09:18:37.932983Z",
     "iopub.status.busy": "2022-09-13T09:18:37.931465Z",
     "iopub.status.idle": "2022-09-13T09:18:37.940402Z",
     "shell.execute_reply": "2022-09-13T09:18:37.941449Z"
    }
   },
   "outputs": [],
   "source": [
    "#- Matrix inverse of X.T @ X\n",
    "iXtX = npl.inv(XtX)\n",
    "# Show the result\n",
    "iXtX"
   ]
  },
  {
   "cell_type": "markdown",
   "id": "a4313d10",
   "metadata": {},
   "source": [
    "If you can calculate the inverse without error, that means that $\\Xmat^T \\Xmat$\n",
    "is *invertible*.\n",
    "\n",
    "Calculate $(\\Xmat^T \\Xmat)^{-1} \\Xmat^T$ (the pseudoinverse in the invertible\n",
    "case).  What shape is it?"
   ]
  },
  {
   "cell_type": "code",
   "execution_count": 22,
   "id": "d810406a",
   "metadata": {
    "execution": {
     "iopub.execute_input": "2022-09-13T09:18:37.951681Z",
     "iopub.status.busy": "2022-09-13T09:18:37.949985Z",
     "iopub.status.idle": "2022-09-13T09:18:37.955635Z",
     "shell.execute_reply": "2022-09-13T09:18:37.956602Z"
    }
   },
   "outputs": [],
   "source": [
    "#- Calculate (X.T X)^-1 X.T (the pseudoinverse)\n",
    "piX = iXtX @ X.T\n",
    "# Show the shape\n",
    "piX.shape"
   ]
  },
  {
   "cell_type": "markdown",
   "id": "a7f31493",
   "metadata": {},
   "source": [
    "Calculate the least squares fit value for $\\bvec$:"
   ]
  },
  {
   "cell_type": "code",
   "execution_count": 23,
   "id": "76abe6d5",
   "metadata": {
    "execution": {
     "iopub.execute_input": "2022-09-13T09:18:37.965171Z",
     "iopub.status.busy": "2022-09-13T09:18:37.963678Z",
     "iopub.status.idle": "2022-09-13T09:18:37.969088Z",
     "shell.execute_reply": "2022-09-13T09:18:37.970234Z"
    }
   },
   "outputs": [],
   "source": [
    "#- Calculate least squares fit for beta vector\n",
    "B = piX @ psychopathy\n",
    "B"
   ]
  },
  {
   "cell_type": "markdown",
   "id": "2cc0361e",
   "metadata": {},
   "source": [
    "Calculate the fitted values $c + b \\xvec$, and the residuals $\\evec$:"
   ]
  },
  {
   "cell_type": "code",
   "execution_count": 24,
   "id": "4471a489",
   "metadata": {
    "execution": {
     "iopub.execute_input": "2022-09-13T09:18:37.978426Z",
     "iopub.status.busy": "2022-09-13T09:18:37.976937Z",
     "iopub.status.idle": "2022-09-13T09:18:37.979732Z",
     "shell.execute_reply": "2022-09-13T09:18:37.980386Z"
    }
   },
   "outputs": [],
   "source": [
    "#- Calculate the fitted values and residuals\n",
    "#-- residuals = ...\n",
    "fitted = X @ B\n",
    "residuals = psychopathy - fitted"
   ]
  },
  {
   "cell_type": "markdown",
   "id": "9f0b430f",
   "metadata": {},
   "source": [
    "Confirm that the mean of the residuals is close to zero:"
   ]
  },
  {
   "cell_type": "code",
   "execution_count": 25,
   "id": "1cb263a5",
   "metadata": {
    "execution": {
     "iopub.execute_input": "2022-09-13T09:18:37.989180Z",
     "iopub.status.busy": "2022-09-13T09:18:37.987164Z",
     "iopub.status.idle": "2022-09-13T09:18:37.992586Z",
     "shell.execute_reply": "2022-09-13T09:18:37.993316Z"
    }
   },
   "outputs": [],
   "source": [
    "#- mean of residuals near zero\n",
    "np.allclose(np.mean(residuals), 0)"
   ]
  },
  {
   "cell_type": "markdown",
   "id": "7a9131a2",
   "metadata": {},
   "source": [
    "Confirm that residuals are orthogonal to both columns of the design matrix:"
   ]
  },
  {
   "cell_type": "code",
   "execution_count": 26,
   "id": "30f593ee",
   "metadata": {
    "execution": {
     "iopub.execute_input": "2022-09-13T09:18:38.003414Z",
     "iopub.status.busy": "2022-09-13T09:18:38.001669Z",
     "iopub.status.idle": "2022-09-13T09:18:38.007154Z",
     "shell.execute_reply": "2022-09-13T09:18:38.007830Z"
    }
   },
   "outputs": [],
   "source": [
    "#- Show residuals orthogonal to both columns of design\n",
    "np.allclose(X.T @ residuals, 0)"
   ]
  },
  {
   "cell_type": "markdown",
   "id": "e75fd680",
   "metadata": {},
   "source": [
    "We will now modify the design to see what happens to the parameters and the\n",
    "fitted values.\n",
    "\n",
    "We build the new design by leaving the first columns the same (a column of\n",
    "ones).   Then we change the second column (the `clammy` values) so that it is\n",
    "*orthogonal to* the first.  We can do that by subtracting the mean from the\n",
    "`clammy` vector:"
   ]
  },
  {
   "cell_type": "code",
   "execution_count": 27,
   "id": "0638046d",
   "metadata": {
    "execution": {
     "iopub.execute_input": "2022-09-13T09:18:38.014733Z",
     "iopub.status.busy": "2022-09-13T09:18:38.013570Z",
     "iopub.status.idle": "2022-09-13T09:18:38.017690Z",
     "shell.execute_reply": "2022-09-13T09:18:38.016664Z"
    }
   },
   "outputs": [],
   "source": [
    "x_1 = clammy - np.mean(clammy)"
   ]
  },
  {
   "cell_type": "markdown",
   "id": "00fb465b",
   "metadata": {},
   "source": [
    "Confirm that `x_1` is orthogonal to the column of ones:"
   ]
  },
  {
   "cell_type": "code",
   "execution_count": 28,
   "id": "1698045d",
   "metadata": {
    "execution": {
     "iopub.execute_input": "2022-09-13T09:18:38.025787Z",
     "iopub.status.busy": "2022-09-13T09:18:38.023177Z",
     "iopub.status.idle": "2022-09-13T09:18:38.029867Z",
     "shell.execute_reply": "2022-09-13T09:18:38.030565Z"
    }
   },
   "outputs": [],
   "source": [
    "#- Show x_1 orthogonal to a column of ones\n",
    "x_1 @ np.ones(n)"
   ]
  },
  {
   "cell_type": "markdown",
   "id": "04a909ce",
   "metadata": {},
   "source": [
    "Compile the column of ones and the new regressor into an `n` by 2 design matrix\n",
    "`X_o`:"
   ]
  },
  {
   "cell_type": "code",
   "execution_count": 29,
   "id": "ab88cf4d",
   "metadata": {
    "execution": {
     "iopub.execute_input": "2022-09-13T09:18:38.040564Z",
     "iopub.status.busy": "2022-09-13T09:18:38.039338Z",
     "iopub.status.idle": "2022-09-13T09:18:38.043687Z",
     "shell.execute_reply": "2022-09-13T09:18:38.044321Z"
    }
   },
   "outputs": [],
   "source": [
    "X_o = np.stack([np.ones(n), x_1], axis=1)\n",
    "# Show the result\n",
    "X_o"
   ]
  },
  {
   "cell_type": "markdown",
   "id": "e92a6f60",
   "metadata": {},
   "source": [
    "Here is the matrix that we will invert to make the pseudoinverse:"
   ]
  },
  {
   "cell_type": "code",
   "execution_count": 30,
   "id": "5c25045a",
   "metadata": {
    "execution": {
     "iopub.execute_input": "2022-09-13T09:18:38.051903Z",
     "iopub.status.busy": "2022-09-13T09:18:38.050318Z",
     "iopub.status.idle": "2022-09-13T09:18:38.056160Z",
     "shell.execute_reply": "2022-09-13T09:18:38.056878Z"
    }
   },
   "outputs": [],
   "source": [
    "XtX_o = X_o.T @ X_o\n",
    "XtX_o"
   ]
  },
  {
   "cell_type": "markdown",
   "id": "44379cab",
   "metadata": {},
   "source": [
    "Look at the diagonal values of the matrix `X_o.T @ X_o`.  What is the\n",
    "relationship of these values to the *vector lengths* of the vectors in the\n",
    "first and second columns of `X_o`?\n",
    "\n",
    "Find the new value for $(\\Xmat^T \\Xmat)^{-1}$ – the inverse of `X_o.T @ X_o`."
   ]
  },
  {
   "cell_type": "code",
   "execution_count": 31,
   "id": "412b0f35",
   "metadata": {
    "execution": {
     "iopub.execute_input": "2022-09-13T09:18:38.065312Z",
     "iopub.status.busy": "2022-09-13T09:18:38.063523Z",
     "iopub.status.idle": "2022-09-13T09:18:38.069929Z",
     "shell.execute_reply": "2022-09-13T09:18:38.072022Z"
    }
   },
   "outputs": [],
   "source": [
    "iXtX_o = npl.inv(XtX_o)\n",
    "# Show the result\n",
    "iXtX_o"
   ]
  },
  {
   "cell_type": "markdown",
   "id": "63a1c5fa",
   "metadata": {},
   "source": [
    "What is the relationship of the values in the diagonal of the inverse matrix to\n",
    "the lengths of the vectors in the first and second columns of `X_o`?\n",
    "\n",
    "*Hint*: $A^{-1} \\cdot A = I$; if $A$ has all zeros off the diagonal, what must\n",
    "$A^{-1}$ be for this to be true?\n",
    "\n",
    "Make a new data vector `y_c` by subtracting the mean from the psychopathy\n",
    "vector:"
   ]
  },
  {
   "cell_type": "code",
   "execution_count": 32,
   "id": "fbd51824",
   "metadata": {
    "execution": {
     "iopub.execute_input": "2022-09-13T09:18:38.081848Z",
     "iopub.status.busy": "2022-09-13T09:18:38.080254Z",
     "iopub.status.idle": "2022-09-13T09:18:38.085347Z",
     "shell.execute_reply": "2022-09-13T09:18:38.086462Z"
    }
   },
   "outputs": [],
   "source": [
    "#- Make mean-centered version of psychopathy vector\n",
    "y_c = psychopathy - np.mean(psychopathy)\n",
    "# Show the result\n",
    "y_c"
   ]
  },
  {
   "cell_type": "markdown",
   "id": "f3943f85",
   "metadata": {},
   "source": [
    "Calculate a new `B_o` parameter vector for the least-squares fit of `X_o`\n",
    "to `y_c`:"
   ]
  },
  {
   "cell_type": "code",
   "execution_count": 33,
   "id": "cc0b9ecd",
   "metadata": {
    "execution": {
     "iopub.execute_input": "2022-09-13T09:18:38.097370Z",
     "iopub.status.busy": "2022-09-13T09:18:38.095866Z",
     "iopub.status.idle": "2022-09-13T09:18:38.100678Z",
     "shell.execute_reply": "2022-09-13T09:18:38.101470Z"
    }
   },
   "outputs": [],
   "source": [
    "#- Calculate fit of X_o to y_c\n",
    "B_o = iXtX_o @ X_o.T @ y_c\n",
    "# Show the result\n",
    "B_o"
   ]
  },
  {
   "cell_type": "markdown",
   "id": "2b755b4d",
   "metadata": {},
   "source": [
    "The first parameter has changed compared to your previous estimate.  Can you\n",
    "explain why it has this new value by considering the values of $(\\Xmat^T\n",
    "\\Xmat)^{-1} \\Xmat^T \\yvec$?\n",
    "\n",
    "Calculate the correlation coefficient between `y_c` and the second column of\n",
    "`X_o`.  In case you want to play it that way, here's a function to calculate\n",
    "z-scores (standard scores), that you could use to calculate the correlation."
   ]
  },
  {
   "cell_type": "code",
   "execution_count": 34,
   "id": "f60864cf",
   "metadata": {
    "execution": {
     "iopub.execute_input": "2022-09-13T09:18:38.110978Z",
     "iopub.status.busy": "2022-09-13T09:18:38.109269Z",
     "iopub.status.idle": "2022-09-13T09:18:38.112529Z",
     "shell.execute_reply": "2022-09-13T09:18:38.113221Z"
    }
   },
   "outputs": [],
   "source": [
    "def standard_scores(v):\n",
    "    return (v - np.mean(v)) / np.std(v)"
   ]
  },
  {
   "cell_type": "code",
   "execution_count": 35,
   "id": "1ed2fc42",
   "metadata": {
    "execution": {
     "iopub.execute_input": "2022-09-13T09:18:38.123790Z",
     "iopub.status.busy": "2022-09-13T09:18:38.122160Z",
     "iopub.status.idle": "2022-09-13T09:18:38.127474Z",
     "shell.execute_reply": "2022-09-13T09:18:38.128480Z"
    }
   },
   "outputs": [],
   "source": [
    "#- Correlation coefficient of the second column of X_o and y_c\n",
    "r_xy = np.mean(standard_scores(x_1) * standard_scores(y_c))\n",
    "# Show the result\n",
    "r_xy"
   ]
  },
  {
   "cell_type": "markdown",
   "id": "3d3752f9",
   "metadata": {},
   "source": [
    "Next we explore the relationship between this correlation coefficient and `x_1`\n",
    "— the second column of the design matrix.\n",
    "\n",
    "First - consider the calculation that gave us the value for the slope:"
   ]
  },
  {
   "cell_type": "code",
   "execution_count": 36,
   "id": "04f5f10b",
   "metadata": {
    "execution": {
     "iopub.execute_input": "2022-09-13T09:18:38.137318Z",
     "iopub.status.busy": "2022-09-13T09:18:38.135836Z",
     "iopub.status.idle": "2022-09-13T09:18:38.140899Z",
     "shell.execute_reply": "2022-09-13T09:18:38.141519Z"
    }
   },
   "outputs": [],
   "source": [
    "# The regression slope.\n",
    "b = B_o[1]\n",
    "b"
   ]
  },
  {
   "cell_type": "markdown",
   "id": "b3aceb39",
   "metadata": {},
   "source": [
    "We got this value via:"
   ]
  },
  {
   "cell_type": "code",
   "execution_count": 37,
   "id": "2c9c176c",
   "metadata": {
    "execution": {
     "iopub.execute_input": "2022-09-13T09:18:38.149420Z",
     "iopub.status.busy": "2022-09-13T09:18:38.148062Z",
     "iopub.status.idle": "2022-09-13T09:18:38.152884Z",
     "shell.execute_reply": "2022-09-13T09:18:38.153815Z"
    }
   },
   "outputs": [],
   "source": [
    "B_o = npl.inv(X_o.T @ X_o) @ X_o.T @ y_c\n",
    "B_o"
   ]
  },
  {
   "cell_type": "markdown",
   "id": "79863482",
   "metadata": {},
   "source": [
    "We can break this calculation up into:"
   ]
  },
  {
   "cell_type": "code",
   "execution_count": 38,
   "id": "814e661d",
   "metadata": {
    "execution": {
     "iopub.execute_input": "2022-09-13T09:18:38.163604Z",
     "iopub.status.busy": "2022-09-13T09:18:38.162423Z",
     "iopub.status.idle": "2022-09-13T09:18:38.166663Z",
     "shell.execute_reply": "2022-09-13T09:18:38.167352Z"
    }
   },
   "outputs": [],
   "source": [
    "# First part.\n",
    "iXtX_o = npl.inv(X_o.T @ X_o)\n",
    "# Second part\n",
    "XtY_o = X_o.T @ y_c\n",
    "# Result (B_o)\n",
    "iXtX_o @ XtY_o"
   ]
  },
  {
   "cell_type": "markdown",
   "id": "4bfa9233",
   "metadata": {},
   "source": [
    "Consider the second part of the calculation:"
   ]
  },
  {
   "cell_type": "code",
   "execution_count": 39,
   "id": "f8ee3b7c",
   "metadata": {
    "execution": {
     "iopub.execute_input": "2022-09-13T09:18:38.175719Z",
     "iopub.status.busy": "2022-09-13T09:18:38.174057Z",
     "iopub.status.idle": "2022-09-13T09:18:38.178756Z",
     "shell.execute_reply": "2022-09-13T09:18:38.179713Z"
    }
   },
   "outputs": [],
   "source": [
    "XtY_o"
   ]
  },
  {
   "cell_type": "markdown",
   "id": "ad33d24b",
   "metadata": {},
   "source": [
    "This has two values:\n",
    "\n",
    "* `B_o[0]`: the dot product of the vector of ones with `y_c`\n",
    "* `B_o[1]`: the dot product of `x_1` with `y_c`\n",
    "\n",
    "Now consider the first part of the calculation:"
   ]
  },
  {
   "cell_type": "code",
   "execution_count": 40,
   "id": "39549df1",
   "metadata": {
    "execution": {
     "iopub.execute_input": "2022-09-13T09:18:38.187380Z",
     "iopub.status.busy": "2022-09-13T09:18:38.185843Z",
     "iopub.status.idle": "2022-09-13T09:18:38.190975Z",
     "shell.execute_reply": "2022-09-13T09:18:38.191658Z"
    }
   },
   "outputs": [],
   "source": [
    "iXtX_o"
   ]
  },
  {
   "cell_type": "markdown",
   "id": "544a72db",
   "metadata": {},
   "source": [
    "Remember, this is just the inverse of:"
   ]
  },
  {
   "cell_type": "code",
   "execution_count": 41,
   "id": "c65bc868",
   "metadata": {
    "execution": {
     "iopub.execute_input": "2022-09-13T09:18:38.199205Z",
     "iopub.status.busy": "2022-09-13T09:18:38.197685Z",
     "iopub.status.idle": "2022-09-13T09:18:38.203068Z",
     "shell.execute_reply": "2022-09-13T09:18:38.204302Z"
    }
   },
   "outputs": [],
   "source": [
    "XtX_o = X_o.T @ X_o\n",
    "XtX_o"
   ]
  },
  {
   "cell_type": "markdown",
   "id": "76860550",
   "metadata": {},
   "source": [
    "Matrix multiplication (`@`) takes the dot products of each left row with each\n",
    "right column.  As you may have noticed above, this means the elements on the\n",
    "diagonal are just the vector lengths of each column.  Because the columns are\n",
    "orthogonal, the off-diagonal elements are all 0.\n",
    "\n",
    "The [inverse of a diagonal matrix](https://textbook.nipraxis.org/diag_inverse)\n",
    "is another diagonal matrix where the diagonal elements are given by the\n",
    "reciprocals of the diagonal elements in the original array:"
   ]
  },
  {
   "cell_type": "code",
   "execution_count": 42,
   "id": "6a0cdf6c",
   "metadata": {
    "execution": {
     "iopub.execute_input": "2022-09-13T09:18:38.211701Z",
     "iopub.status.busy": "2022-09-13T09:18:38.210603Z",
     "iopub.status.idle": "2022-09-13T09:18:38.214716Z",
     "shell.execute_reply": "2022-09-13T09:18:38.215550Z"
    }
   },
   "outputs": [],
   "source": [
    "print('First diagonal element', 1 / XtX_o[0, 0])\n",
    "print('Second diagonal element', 1 / XtX_o[1, 1])"
   ]
  },
  {
   "cell_type": "markdown",
   "id": "aefc303e",
   "metadata": {},
   "source": [
    "Remember `x_1` is the second column of `X_o`.\n",
    "\n",
    "Now consider the whole calculation that leads up to `B_o`.  Reproduce the\n",
    "calculation of `B_o[1]`, without using matrix multiplication, and given:\n",
    "\n",
    "* the vector length of `x_1`\n",
    "* the dot product of `x_1` and `y_c`\n",
    "\n",
    "Here is the length:"
   ]
  },
  {
   "cell_type": "code",
   "execution_count": 43,
   "id": "dd1f12ae",
   "metadata": {
    "execution": {
     "iopub.execute_input": "2022-09-13T09:18:38.223830Z",
     "iopub.status.busy": "2022-09-13T09:18:38.222365Z",
     "iopub.status.idle": "2022-09-13T09:18:38.227754Z",
     "shell.execute_reply": "2022-09-13T09:18:38.228578Z"
    }
   },
   "outputs": [],
   "source": [
    "x_1_len = np.sqrt(x_1 @ x_1)\n",
    "x_1_len"
   ]
  },
  {
   "cell_type": "markdown",
   "id": "52398be1",
   "metadata": {},
   "source": [
    "Here's the dot product:"
   ]
  },
  {
   "cell_type": "code",
   "execution_count": 44,
   "id": "fd4ce388",
   "metadata": {
    "execution": {
     "iopub.execute_input": "2022-09-13T09:18:38.235656Z",
     "iopub.status.busy": "2022-09-13T09:18:38.234464Z",
     "iopub.status.idle": "2022-09-13T09:18:38.239347Z",
     "shell.execute_reply": "2022-09-13T09:18:38.240069Z"
    }
   },
   "outputs": [],
   "source": [
    "x_dot_y = x_1 @ y_c\n",
    "x_dot_y"
   ]
  },
  {
   "cell_type": "code",
   "execution_count": 45,
   "id": "8b92d06b",
   "metadata": {
    "execution": {
     "iopub.execute_input": "2022-09-13T09:18:38.248363Z",
     "iopub.status.busy": "2022-09-13T09:18:38.246762Z",
     "iopub.status.idle": "2022-09-13T09:18:38.251934Z",
     "shell.execute_reply": "2022-09-13T09:18:38.253054Z"
    }
   },
   "outputs": [],
   "source": [
    "b_reproduced = 1 / x_1_len ** 2 * x_dot_y\n",
    "# Show the result\n",
    "b_reproduced"
   ]
  },
  {
   "cell_type": "markdown",
   "id": "6eab0eb0",
   "metadata": {},
   "source": [
    "Now we return to the correlation coefficient.\n",
    "\n",
    "Remember this is given by first subtracting the mean from each vector, then\n",
    "multiplying the resulting mean-centered vectors, to give the elementwise\n",
    "product, then taking the mean of the elementwise product.\n",
    "\n",
    "Remember that `x_1` and `y_c` already have mean zero.\n",
    "\n",
    "Consider the calculation of the correlation coefficient, and that of the dot\n",
    "product `x_dot_y` above.\n",
    "\n",
    "Reconstruct `x_dot_y` above from the correlation coefficient, `n`,\n",
    "`np.std(y_c)` and `np.std(x_1)`:"
   ]
  },
  {
   "cell_type": "code",
   "execution_count": 46,
   "id": "f0591e57",
   "metadata": {
    "execution": {
     "iopub.execute_input": "2022-09-13T09:18:38.263832Z",
     "iopub.status.busy": "2022-09-13T09:18:38.262258Z",
     "iopub.status.idle": "2022-09-13T09:18:38.267164Z",
     "shell.execute_reply": "2022-09-13T09:18:38.268091Z"
    },
    "lines_to_next_cell": 2
   },
   "outputs": [],
   "source": [
    "y_c_std = np.std(y_c)\n",
    "x_dot_y_reconstructed = r_xy * n * y_c_std * x_1_std\n",
    "# Show the result\n",
    "x_dot_y_reconstructed"
   ]
  },
  {
   "cell_type": "markdown",
   "id": "28e8e318",
   "metadata": {},
   "source": [
    "Remember the relationships you found above:\n",
    "\n",
    "* Between the standard deviation and the vector length.\n",
    "* Between the dot product of two zero-mean vectors and the correlation.\n",
    "\n",
    "See if you can use a reworking of your formula above to reconstruct `B_o[1]`\n",
    "with a calculation using only:\n",
    "\n",
    "* `r_xy` (the correlation)\n",
    "* `x_1_std`\n",
    "* `y_c_std`\n",
    "* `n` (if you need it).\n",
    "\n",
    "Try simplifying the calculation as far as possible."
   ]
  },
  {
   "cell_type": "code",
   "execution_count": 47,
   "id": "d5342718",
   "metadata": {
    "execution": {
     "iopub.execute_input": "2022-09-13T09:18:38.277954Z",
     "iopub.status.busy": "2022-09-13T09:18:38.276321Z",
     "iopub.status.idle": "2022-09-13T09:18:38.281357Z",
     "shell.execute_reply": "2022-09-13T09:18:38.282479Z"
    }
   },
   "outputs": [],
   "source": [
    "b_reproduced_again = r_xy *  y_c_std / x_1_std\n",
    "# Show the result\n",
    "b_reproduced_again"
   ]
  },
  {
   "cell_type": "markdown",
   "id": "5dae62ec",
   "metadata": {},
   "source": [
    "Did you get the same calculation as you saw in [on\n",
    "regression](https://textbook.nipraxis.org/on_regression)?"
   ]
  },
  {
   "cell_type": "markdown",
   "id": "f9a48083",
   "metadata": {},
   "source": [
    "## Different models, different parameters\n",
    "\n",
    "Now try calculating $\\bvec$ fitting the `X_o` design to the original\n",
    "psychopathy data (not the mean-centered version)."
   ]
  },
  {
   "cell_type": "code",
   "execution_count": 48,
   "id": "3068baae",
   "metadata": {
    "execution": {
     "iopub.execute_input": "2022-09-13T09:18:38.292706Z",
     "iopub.status.busy": "2022-09-13T09:18:38.291092Z",
     "iopub.status.idle": "2022-09-13T09:18:38.296188Z",
     "shell.execute_reply": "2022-09-13T09:18:38.297101Z"
    }
   },
   "outputs": [],
   "source": [
    "#- Fit X_o to psychopathy data\n",
    "B_o = iXtX @ X_o.T @ psychopathy\n",
    "# Show the result\n",
    "B_o"
   ]
  },
  {
   "cell_type": "markdown",
   "id": "2f711c31",
   "metadata": {},
   "source": [
    "Compare the first value in the new `B_o` parameter vector with the mean of\n",
    "the `psychopathy` vector."
   ]
  },
  {
   "cell_type": "code",
   "execution_count": 49,
   "id": "4ce74f2c",
   "metadata": {
    "execution": {
     "iopub.execute_input": "2022-09-13T09:18:38.306723Z",
     "iopub.status.busy": "2022-09-13T09:18:38.304672Z",
     "iopub.status.idle": "2022-09-13T09:18:38.310184Z",
     "shell.execute_reply": "2022-09-13T09:18:38.310981Z"
    }
   },
   "outputs": [],
   "source": [
    "np.mean(psychopathy)"
   ]
  },
  {
   "cell_type": "markdown",
   "id": "494e1860",
   "metadata": {},
   "source": [
    "Can you explain the relationship?\n",
    "\n",
    "For extra points, can you explain why the second value in `B_o` did not\n",
    "change when we estimated for `psychopathy` rather than the mean-centered\n",
    "version `y_c`?  Hint: remember $(\\vec{a} + \\vec{b}) \\cdot \\vec{c} = \\vec{a}\n",
    "\\cdot \\vec{c} + \\vec{b} \\cdot \\vec{c}$.\n",
    "\n",
    "Calculate the fitted values for the `X_o` model, and compare them to the\n",
    "fitted values for the original model:"
   ]
  },
  {
   "cell_type": "code",
   "execution_count": 50,
   "id": "6aa65c86",
   "metadata": {
    "execution": {
     "iopub.execute_input": "2022-09-13T09:18:38.318956Z",
     "iopub.status.busy": "2022-09-13T09:18:38.317897Z",
     "iopub.status.idle": "2022-09-13T09:18:38.322578Z",
     "shell.execute_reply": "2022-09-13T09:18:38.323357Z"
    }
   },
   "outputs": [],
   "source": [
    "fitted_X_o = X_o @ B_o\n",
    "np.allclose(fitted_X_o, fitted)"
   ]
  },
  {
   "cell_type": "markdown",
   "id": "cda7783c",
   "metadata": {},
   "source": [
    "For even more extra points, explain the relationship between the fitted values\n",
    "for the original model and those for the new model, where the clammy regressor\n",
    "is mean centered."
   ]
  }
 ],
 "metadata": {
  "jupytext": {
   "notebook_metadata_filter": "all,-language_info",
   "split_at_heading": true,
   "text_representation": {
    "extension": ".Rmd",
    "format_name": "rmarkdown",
    "format_version": "1.2",
    "jupytext_version": "1.10.3"
   }
  },
  "kernelspec": {
   "display_name": "Python 3",
   "language": "python",
   "name": "python3"
  },
  "language_info": {
   "codemirror_mode": {
    "name": "ipython",
    "version": 3
   },
   "file_extension": ".py",
   "mimetype": "text/x-python",
   "name": "python",
   "nbconvert_exporter": "python",
   "pygments_lexer": "ipython3",
   "version": "3.9.13"
  }
 },
 "nbformat": 4,
 "nbformat_minor": 5
}
